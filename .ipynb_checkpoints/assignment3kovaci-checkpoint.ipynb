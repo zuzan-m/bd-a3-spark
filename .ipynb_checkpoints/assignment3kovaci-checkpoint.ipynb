{
 "cells": [
  {
   "cell_type": "markdown",
   "metadata": {},
   "source": [
    "# Introduction to Big Data analytics\n",
    "## Assignment 3\n",
    "### Katarzyna Kovaci\n",
    "\n",
    "I used some code from lecture notes, some did together with Marta Wojnowska (student from second grup)"
   ]
  },
  {
   "cell_type": "code",
   "execution_count": 11,
   "metadata": {
    "collapsed": true
   },
   "outputs": [],
   "source": [
    "import findspark\n",
    "findspark.init()\n",
    "import pyspark\n",
    "import random\n",
    "from pyspark.sql import SparkSession\n",
    "from pyspark import SparkContext, SparkConf\n",
    "from pyspark.sql.functions import *\n",
    "import pandas as pd\n",
    "from matplotlib import pyplot as plt \n",
    "import seaborn as sns"
   ]
  },
  {
   "cell_type": "code",
   "execution_count": 4,
   "metadata": {},
   "outputs": [
    {
     "name": "stdout",
     "output_type": "stream",
     "text": [
      "+----+--------------------+----+---+---+----+\n",
      "|Year|              Player|  MP| 3P|3PA| PTS|\n",
      "+----+--------------------+----+---+---+----+\n",
      "|1980|Kareem Abdul-Jabbar*|3143|  0|  1|2034|\n",
      "|1980|       Tom Abernethy|1222|  0|  1| 362|\n",
      "|1980|         Alvan Adams|2168|  0|  2|1118|\n",
      "|1980|     Tiny Archibald*|2864|  4| 18|1131|\n",
      "|1980|       Dennis Awtrey| 560|  0|  0|  86|\n",
      "|1980|          Gus Bailey| 180|  1|  1|  38|\n",
      "|1980|        James Bailey| 726|  0|  0| 312|\n",
      "|1980|        Greg Ballard|2438| 16| 47|1277|\n",
      "|1980|         Mike Bantom|2330|  1|  3| 908|\n",
      "|1980|       Marvin Barnes| 287|  0|  0|  64|\n",
      "|1980|         Rick Barry*|1816| 73|221| 866|\n",
      "|1980|         Tim Bassett| 164|  0|  0|  34|\n",
      "|1980|         Tim Bassett|  92|  0|  0|  24|\n",
      "|1980|         Tim Bassett|  72|  0|  0|  10|\n",
      "|1980|           Billy Ray| 235|  8| 19| 180|\n",
      "|1980|         Ron Behagen|  64|  0|  0|  23|\n",
      "|1980|         Kent Benson|1891|  1|  5| 698|\n",
      "|1980|         Kent Benson|1389|  0|  1| 492|\n",
      "|1980|         Kent Benson| 502|  1|  4| 206|\n",
      "|1980|         Del Beshore| 869| 10| 26| 244|\n",
      "+----+--------------------+----+---+---+----+\n",
      "only showing top 20 rows\n",
      "\n"
     ]
    }
   ],
   "source": [
    "# data from https://www.kaggle.com/drgilermo/nba-players-stats\n",
    "\n",
    "sc.stop()\n",
    "\n",
    "sc = pyspark.SparkContext(appName=\"NBA\")\n",
    "spark = SparkSession(sc)\n",
    "\n",
    "df = spark.read.csv(path='Seasons_Stats.csv', sep=',', encoding='UTF-8', \n",
    "                      comment=None, header=True, inferSchema=True)\n",
    "df = df.filter(df.Year > 1979)\n",
    "df = df.select(['Year', 'Player', 'MP', '3P', '3PA', 'PTS'])\n",
    "df.show()\n",
    "\n",
    "# columns: Year, Player, Minutes Played, 3-Point Field Goals, 3-Point Field Goal Attempts, Points\n"
   ]
  },
  {
   "cell_type": "code",
   "execution_count": 5,
   "metadata": {
    "collapsed": true
   },
   "outputs": [],
   "source": [
    "# find columns with missing values [lecture 4]\n",
    "\n",
    "def find_missing_values_columns(df):\n",
    "    nrow = df.count()\n",
    "    for v in df.columns:\n",
    "        summary_df = df.select(v).describe()\n",
    "        v_count = int(summary_df.collect()[0][v])\n",
    "        if v_count < nrow:\n",
    "            missing_percentage = (1 - v_count/nrow) * 100\n",
    "            print(\"Total observations: \" + str(nrow) + \"\\n\" \n",
    "                  \"Total observations of \" + v + \": \" + str(v_count) + \"\\n\"\n",
    "                  \"Percentage of missing values: \" + str(missing_percentage) +\n",
    "                  \"%\" + \"\\n\"\n",
    "                  \"----------------------------\")\n"
   ]
  },
  {
   "cell_type": "code",
   "execution_count": 7,
   "metadata": {
    "collapsed": true
   },
   "outputs": [],
   "source": [
    "# There is no missing data.\n",
    "\n",
    "find_missing_values_columns(df)"
   ]
  },
  {
   "cell_type": "markdown",
   "metadata": {},
   "source": [
    "### Top 10 scores sorted in ascending order."
   ]
  },
  {
   "cell_type": "code",
   "execution_count": 9,
   "metadata": {},
   "outputs": [
    {
     "data": {
      "text/plain": [
       "[Row(Year=1982, Player='George Gervin*', MP=2817, 3P=10, 3PA=36, PTS=2551),\n",
       " Row(Year=2017, Player='Russell Westbrook', MP=2802, 3P=200, 3PA=583, PTS=2558),\n",
       " Row(Year=1991, Player='Michael Jordan*', MP=3034, 3P=29, 3PA=93, PTS=2580),\n",
       " Row(Year=1980, Player='George Gervin*', MP=2934, 3P=32, 3PA=102, PTS=2585),\n",
       " Row(Year=2014, Player='Kevin Durant', MP=3122, 3P=192, 3PA=491, PTS=2593),\n",
       " Row(Year=1989, Player='Michael Jordan*', MP=3255, 3P=27, 3PA=98, PTS=2633),\n",
       " Row(Year=1990, Player='Michael Jordan*', MP=3197, 3P=92, 3PA=245, PTS=2753),\n",
       " Row(Year=2006, Player='Kobe Bryant', MP=3277, 3P=180, 3PA=518, PTS=2832),\n",
       " Row(Year=1988, Player='Michael Jordan*', MP=3311, 3P=7, 3PA=53, PTS=2868),\n",
       " Row(Year=1987, Player='Michael Jordan*', MP=3281, 3P=12, 3PA=66, PTS=3041)]"
      ]
     },
     "execution_count": 9,
     "metadata": {},
     "output_type": "execute_result"
    }
   ],
   "source": [
    "top = df.sort(col(\"PTS\").asc())\n",
    "top.collect()[-10:]"
   ]
  },
  {
   "cell_type": "markdown",
   "metadata": {},
   "source": [
    "### Average number of 3 point attempts for each season in a time limit of 48 minutes."
   ]
  },
  {
   "cell_type": "code",
   "execution_count": 17,
   "metadata": {},
   "outputs": [
    {
     "name": "stdout",
     "output_type": "stream",
     "text": [
      "+----+-------------------------+------------------+\n",
      "|Year|total_time_per_one_player|   number_of_games|\n",
      "+----+-------------------------+------------------+\n",
      "|2017|                  64895.5|1351.9895833333333|\n",
      "|2016|                  63858.0|          1330.375|\n",
      "|2015|                  67819.6|1412.9083333333333|\n",
      "|2014|                  65186.6|1358.0541666666666|\n",
      "|2013|                  63770.5|1328.5520833333333|\n",
      "|2012|                  50716.3|1056.5895833333334|\n",
      "|2011|                  68674.6|1430.7208333333333|\n",
      "|2010|                  65667.6|          1368.075|\n",
      "|2009|                  66214.8|          1379.475|\n",
      "|2008|                  65456.8|1363.6833333333334|\n",
      "+----+-------------------------+------------------+\n",
      "only showing top 10 rows\n",
      "\n"
     ]
    }
   ],
   "source": [
    "#I will sum the minutes played for all players then divide it by 10 (there are 10 people playin during one game)\n",
    "#48 minutes is a time of a whole game\n",
    "\n",
    "duration = df.groupBy('Year').agg((sum('MP')/(10)).alias('total_time_per_one_player'), (sum('MP')/480).alias('number_of_games')).orderBy(desc('Year'))\n",
    "duration.show(10)\n"
   ]
  },
  {
   "cell_type": "code",
   "execution_count": 25,
   "metadata": {},
   "outputs": [
    {
     "name": "stdout",
     "output_type": "stream",
     "text": [
      "+----+-------------------------+------------------+--------+------------------+\n",
      "|Year|total_time_per_one_player|   number_of_games|total3PA|            avg3PA|\n",
      "+----+-------------------------+------------------+--------+------------------+\n",
      "|2017|                  64895.5|1351.9895833333333|   73136| 54.09509133915295|\n",
      "|2016|                  63858.0|          1330.375|   63889| 48.02330170064831|\n",
      "|2015|                  67819.6|1412.9083333333333|   63420|44.886139110227724|\n",
      "|2014|                  65186.6|1358.0541666666666|   58438|43.030684220376585|\n",
      "|2013|                  63770.5|1328.5520833333333|   52958| 39.86144063477627|\n",
      "|2012|                  50716.3|1056.5895833333334|   38277| 36.22693295843742|\n",
      "|2011|                  68674.6|1430.7208333333333|   52915| 36.98485320628005|\n",
      "|2010|                  65667.6|          1368.075|   49184| 35.95124536301007|\n",
      "|2009|                  66214.8|          1379.475|   50535| 36.63350187571359|\n",
      "|2008|                  65456.8|1363.6833333333334|   48484| 35.55370870558903|\n",
      "|2007|                  63003.1|1312.5645833333333|   44269|33.727102317187565|\n",
      "|2006|                  64603.9|1345.9145833333334|   42898|31.872750716288024|\n",
      "|2005|                  66164.1|        1378.41875|   43906|31.852439616045558|\n",
      "|2004|                  65324.7|        1360.93125|   39708|  29.1770800325145|\n",
      "|2003|                  60815.1|        1266.98125|   37101| 29.28299057306491|\n",
      "|2002|                  61077.0|         1272.4375|   37517|29.484355813153886|\n",
      "|2001|                  62350.0|1298.9583333333333|   34290|26.398075380914197|\n",
      "|2000|                  59545.4|1240.5291666666667|   33792|27.239988311439674|\n",
      "|1999|                  37098.4| 772.8833333333333|   20261| 26.21482328078839|\n",
      "|1998|                  63684.4|1326.7583333333334|   34026|   25.645966673157|\n",
      "+----+-------------------------+------------------+--------+------------------+\n",
      "only showing top 20 rows\n",
      "\n"
     ]
    }
   ],
   "source": [
    "# We are going to sum all 3 point attempts in each season and then divide it by number of games.\n",
    "\n",
    "total3PA = df.groupBy('Year').agg(sum('3PA').alias('total3PA')).orderBy(desc('Year'))\n",
    "\n",
    "stat = duration.join(total3PA, total3PA['Year'] == duration['Year']).select(duration['*'], total3PA['total3PA'])\n",
    "stat = stat.withColumn(\"avg3PA\", stat['total3PA']/stat['number_of_games']).orderBy(desc('Year'))\n",
    "stat.show()\n",
    "\n",
    "#the average number of 3 point attempts (all players)"
   ]
  },
  {
   "cell_type": "code",
   "execution_count": 80,
   "metadata": {},
   "outputs": [
    {
     "data": {
      "text/plain": [
       "Text(0.5, 1.0, 'Player average 3-point attempts')"
      ]
     },
     "execution_count": 80,
     "metadata": {},
     "output_type": "execute_result"
    },
    {
     "data": {
      "image/png": "[encoded data removed]",
      "text/plain": [
       "<Figure size 792x432 with 1 Axes>"
      ]
     },
     "metadata": {},
     "output_type": "display_data"
    }
   ],
   "source": [
    "plt.figure(figsize=(11,6))\n",
    "#plt.style.use('fivethirtyeight')\n",
    "data= stat.toPandas()\n",
    "plt.plot(data.Year,data.avg3PA, color = 'pink')\n",
    "plt.xlabel('Year')\n",
    "plt.ylabel(\"Attempts\")\n",
    "plt.title('Player average 3-point attempts')"
   ]
  },
  {
   "cell_type": "markdown",
   "metadata": {},
   "source": [
    "### Linear Regression model \n",
    "most of the code from lecture 5"
   ]
  },
  {
   "cell_type": "code",
   "execution_count": 61,
   "metadata": {},
   "outputs": [
    {
     "name": "stdout",
     "output_type": "stream",
     "text": [
      "+--------+------------------+\n",
      "|features|             label|\n",
      "+--------+------------------+\n",
      "|[2017.0]| 54.09509133915295|\n",
      "|[2016.0]| 48.02330170064831|\n",
      "|[2015.0]|44.886139110227724|\n",
      "|[2014.0]|43.030684220376585|\n",
      "|[2013.0]| 39.86144063477627|\n",
      "+--------+------------------+\n",
      "only showing top 5 rows\n",
      "\n"
     ]
    }
   ],
   "source": [
    "#transform data structure\n",
    "from pyspark.ml.linalg import Vectors\n",
    "train = stat.rdd.map(lambda x: [Vectors.dense(x[0]), x[-1]]).toDF(['features', 'label'])\n",
    "train.show(5)"
   ]
  },
  {
   "cell_type": "code",
   "execution_count": 64,
   "metadata": {},
   "outputs": [
    {
     "name": "stdout",
     "output_type": "stream",
     "text": [
      "Coeff: [1.2094240896514135]\n",
      "Intercept: -2392.1597910159794\n"
     ]
    }
   ],
   "source": [
    "#build linear regression model\n",
    "from pyspark.ml.regression import LinearRegression\n",
    "lr = LinearRegression(featuresCol = 'features', labelCol = 'label')\n",
    "lr_model = lr.fit(train)\n",
    "\n",
    "print(\"Coeff: \" + str(lr_model.coefficients))\n",
    "print(\"Intercept: \" + str(lr_model.intercept))"
   ]
  },
  {
   "cell_type": "code",
   "execution_count": 65,
   "metadata": {},
   "outputs": [
    {
     "name": "stdout",
     "output_type": "stream",
     "text": [
      "+--------+------------------+------------------+\n",
      "|features|             label|        prediction|\n",
      "+--------+------------------+------------------+\n",
      "|[2017.0]| 54.09509133915295| 47.24859781092164|\n",
      "|[2016.0]| 48.02330170064831|46.039173721270345|\n",
      "|[2015.0]|44.886139110227724|  44.8297496316186|\n",
      "|[2014.0]|43.030684220376585|43.620325541967304|\n",
      "|[2013.0]| 39.86144063477627| 42.41090145231601|\n",
      "+--------+------------------+------------------+\n",
      "only showing top 5 rows\n",
      "\n"
     ]
    }
   ],
   "source": [
    "#prediction\n",
    "pred = lr_model.transform(train)\n",
    "pred.show(5)"
   ]
  },
  {
   "cell_type": "code",
   "execution_count": 66,
   "metadata": {},
   "outputs": [
    {
     "data": {
      "text/plain": [
       "3.506501448051564"
      ]
     },
     "execution_count": 66,
     "metadata": {},
     "output_type": "execute_result"
    }
   ],
   "source": [
    "#evaluation\n",
    "#Root Mean Squared Error\n",
    "from pyspark.ml.evaluation import RegressionEvaluator \n",
    "evaluator = RegressionEvaluator(predictionCol='prediction', labelCol='label')\n",
    "evaluator.setMetricName('rmse').evaluate(pred)"
   ]
  },
  {
   "cell_type": "code",
   "execution_count": 67,
   "metadata": {},
   "outputs": [
    {
     "data": {
      "text/plain": [
       "0.9346627761641653"
      ]
     },
     "execution_count": 67,
     "metadata": {},
     "output_type": "execute_result"
    }
   ],
   "source": [
    "#R^2\n",
    "evaluator.setMetricName('r2').evaluate(pred)"
   ]
  },
  {
   "cell_type": "markdown",
   "metadata": {},
   "source": [
    "### predict the average number of 3 point attempts for the next 5 years."
   ]
  },
  {
   "cell_type": "code",
   "execution_count": 68,
   "metadata": {
    "collapsed": true
   },
   "outputs": [],
   "source": [
    "prediction_years = [2017, 2018, 2019, 2020, 2021] \n",
    "new = pd.DataFrame({'features' : prediction_years})\n",
    "p = spark.createDataFrame(new)\n",
    "vec = p.rdd.map(lambda x: [Vectors.dense(x[0])]).toDF(['features'])"
   ]
  },
  {
   "cell_type": "code",
   "execution_count": 78,
   "metadata": {},
   "outputs": [
    {
     "name": "stdout",
     "output_type": "stream",
     "text": [
      "+--------+------------------+\n",
      "|features|        prediction|\n",
      "+--------+------------------+\n",
      "|[2017.0]| 47.24859781092164|\n",
      "|[2018.0]| 48.45802190057293|\n",
      "|[2019.0]| 49.66744599022422|\n",
      "|[2020.0]| 50.87687007987597|\n",
      "|[2021.0]|52.086294169527264|\n",
      "+--------+------------------+\n",
      "\n"
     ]
    }
   ],
   "source": [
    "future= lr_model.transform(vec)\n",
    "future.show()"
   ]
  }
 ],
 "metadata": {
  "kernelspec": {
   "display_name": "Python 3",
   "language": "python",
   "name": "python3"
  },
  "language_info": {
   "codemirror_mode": {
    "name": "ipython",
    "version": 3
   },
   "file_extension": ".py",
   "mimetype": "text/x-python",
   "name": "python",
   "nbconvert_exporter": "python",
   "pygments_lexer": "ipython3",
   "version": "3.6.3"
  }
 },
 "nbformat": 4,
 "nbformat_minor": 4
}
