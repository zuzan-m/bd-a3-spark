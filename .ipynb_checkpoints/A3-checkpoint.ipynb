{
 "cells": [
  {
   "cell_type": "markdown",
   "metadata": {},
   "source": [
    "\n",
    "# <span style=\"font-variant: small-caps\"> Big Data </span>\n",
    "\n",
    "## Assignment 3\n",
    " Zuzanna Materny\n"
   ]
  },
  {
   "cell_type": "code",
   "execution_count": 1,
   "metadata": {
    "collapsed": true
   },
   "outputs": [],
   "source": [
    "import findspark\n",
    "findspark.init()"
   ]
  },
  {
   "cell_type": "code",
   "execution_count": 2,
   "metadata": {},
   "outputs": [
    {
     "name": "stdout",
     "output_type": "stream",
     "text": [
      "+-----+\n",
      "|hello|\n",
      "+-----+\n",
      "|spark|\n",
      "+-----+\n",
      "\n"
     ]
    }
   ],
   "source": [
    "import pyspark # only run after findspark.init()\n",
    "from pyspark.sql import SparkSession\n",
    "spark = SparkSession.builder.getOrCreate()\n",
    "\n",
    "df = spark.sql('''select 'spark' as hello ''')\n",
    "df.show()"
   ]
  },
  {
   "cell_type": "code",
   "execution_count": 3,
   "metadata": {
    "collapsed": true
   },
   "outputs": [],
   "source": [
    "#spark.stop()"
   ]
  },
  {
   "cell_type": "code",
   "execution_count": 4,
   "metadata": {
    "collapsed": true
   },
   "outputs": [],
   "source": [
    "nba = spark.read.csv('Seasons_Stats.csv', header=True, inferSchema=True, nullValue='')"
   ]
  },
  {
   "cell_type": "code",
   "execution_count": 5,
   "metadata": {
    "scrolled": true
   },
   "outputs": [
    {
     "name": "stdout",
     "output_type": "stream",
     "text": [
      "+---+----+---------------+---+---+---+---+----+----+----+-----+----+-----+----+----+----+----+----+----+----+----+-----+----+----+----+-----+------+----+----+----+----+---+---+-----+----+----+----+---+---+-----+-----+---+---+-----+----+----+----+---+----+----+----+---+---+\n",
      "|_c0|Year|         Player|Pos|Age| Tm|  G|  GS|  MP| PER|  TS%|3PAr|  FTr|ORB%|DRB%|TRB%|AST%|STL%|BLK%|TOV%|USG%|blanl| OWS| DWS|  WS|WS/48|blank2|OBPM|DBPM| BPM|VORP| FG|FGA|  FG%|  3P| 3PA| 3P%| 2P|2PA|  2P%| eFG%| FT|FTA|  FT%| ORB| DRB| TRB|AST| STL| BLK| TOV| PF|PTS|\n",
      "+---+----+---------------+---+---+---+---+----+----+----+-----+----+-----+----+----+----+----+----+----+----+----+-----+----+----+----+-----+------+----+----+----+----+---+---+-----+----+----+----+---+---+-----+-----+---+---+-----+----+----+----+---+----+----+----+---+---+\n",
      "|  0|1950|Curly Armstrong|G-F| 31|FTW| 63|null|null|null|0.368|null|0.467|null|null|null|null|null|null|null|null| null|-0.1| 3.6| 3.5| null|  null|null|null|null|null|144|516|0.279|null|null|null|144|516|0.279|0.279|170|241|0.705|null|null|null|176|null|null|null|217|458|\n",
      "|  1|1950|   Cliff Barker| SG| 29|INO| 49|null|null|null|0.435|null|0.387|null|null|null|null|null|null|null|null| null| 1.6| 0.6| 2.2| null|  null|null|null|null|null|102|274|0.372|null|null|null|102|274|0.372|0.372| 75|106|0.708|null|null|null|109|null|null|null| 99|279|\n",
      "|  2|1950|  Leo Barnhorst| SF| 25|CHS| 67|null|null|null|0.394|null|0.259|null|null|null|null|null|null|null|null| null| 0.9| 2.8| 3.6| null|  null|null|null|null|null|174|499|0.349|null|null|null|174|499|0.349|0.349| 90|129|0.698|null|null|null|140|null|null|null|192|438|\n",
      "|  3|1950|     Ed Bartels|  F| 24|TOT| 15|null|null|null|0.312|null|0.395|null|null|null|null|null|null|null|null| null|-0.5|-0.1|-0.6| null|  null|null|null|null|null| 22| 86|0.256|null|null|null| 22| 86|0.256|0.256| 19| 34|0.559|null|null|null| 20|null|null|null| 29| 63|\n",
      "|  4|1950|     Ed Bartels|  F| 24|DNN| 13|null|null|null|0.308|null|0.378|null|null|null|null|null|null|null|null| null|-0.5|-0.1|-0.6| null|  null|null|null|null|null| 21| 82|0.256|null|null|null| 21| 82|0.256|0.256| 17| 31|0.548|null|null|null| 20|null|null|null| 27| 59|\n",
      "+---+----+---------------+---+---+---+---+----+----+----+-----+----+-----+----+----+----+----+----+----+----+----+-----+----+----+----+-----+------+----+----+----+----+---+---+-----+----+----+----+---+---+-----+-----+---+---+-----+----+----+----+---+----+----+----+---+---+\n",
      "only showing top 5 rows\n",
      "\n"
     ]
    }
   ],
   "source": [
    "nba.show(5)"
   ]
  },
  {
   "cell_type": "code",
   "execution_count": 6,
   "metadata": {
    "scrolled": true
   },
   "outputs": [
    {
     "name": "stdout",
     "output_type": "stream",
     "text": [
      "root\n",
      " |-- _c0: integer (nullable = true)\n",
      " |-- Year: integer (nullable = true)\n",
      " |-- Player: string (nullable = true)\n",
      " |-- Pos: string (nullable = true)\n",
      " |-- Age: integer (nullable = true)\n",
      " |-- Tm: string (nullable = true)\n",
      " |-- G: integer (nullable = true)\n",
      " |-- GS: integer (nullable = true)\n",
      " |-- MP: integer (nullable = true)\n",
      " |-- PER: double (nullable = true)\n",
      " |-- TS%: double (nullable = true)\n",
      " |-- 3PAr: double (nullable = true)\n",
      " |-- FTr: double (nullable = true)\n",
      " |-- ORB%: double (nullable = true)\n",
      " |-- DRB%: double (nullable = true)\n",
      " |-- TRB%: double (nullable = true)\n",
      " |-- AST%: double (nullable = true)\n",
      " |-- STL%: double (nullable = true)\n",
      " |-- BLK%: double (nullable = true)\n",
      " |-- TOV%: double (nullable = true)\n",
      " |-- USG%: double (nullable = true)\n",
      " |-- blanl: string (nullable = true)\n",
      " |-- OWS: double (nullable = true)\n",
      " |-- DWS: double (nullable = true)\n",
      " |-- WS: double (nullable = true)\n",
      " |-- WS/48: double (nullable = true)\n",
      " |-- blank2: string (nullable = true)\n",
      " |-- OBPM: double (nullable = true)\n",
      " |-- DBPM: double (nullable = true)\n",
      " |-- BPM: double (nullable = true)\n",
      " |-- VORP: double (nullable = true)\n",
      " |-- FG: integer (nullable = true)\n",
      " |-- FGA: integer (nullable = true)\n",
      " |-- FG%: double (nullable = true)\n",
      " |-- 3P: integer (nullable = true)\n",
      " |-- 3PA: integer (nullable = true)\n",
      " |-- 3P%: double (nullable = true)\n",
      " |-- 2P: integer (nullable = true)\n",
      " |-- 2PA: integer (nullable = true)\n",
      " |-- 2P%: double (nullable = true)\n",
      " |-- eFG%: double (nullable = true)\n",
      " |-- FT: integer (nullable = true)\n",
      " |-- FTA: integer (nullable = true)\n",
      " |-- FT%: double (nullable = true)\n",
      " |-- ORB: integer (nullable = true)\n",
      " |-- DRB: integer (nullable = true)\n",
      " |-- TRB: integer (nullable = true)\n",
      " |-- AST: integer (nullable = true)\n",
      " |-- STL: integer (nullable = true)\n",
      " |-- BLK: integer (nullable = true)\n",
      " |-- TOV: integer (nullable = true)\n",
      " |-- PF: integer (nullable = true)\n",
      " |-- PTS: integer (nullable = true)\n",
      "\n"
     ]
    }
   ],
   "source": [
    "nba.printSchema()"
   ]
  },
  {
   "cell_type": "markdown",
   "metadata": {},
   "source": [
    "### find best scorers sorted in ascending order"
   ]
  },
  {
   "cell_type": "code",
   "execution_count": 7,
   "metadata": {
    "collapsed": true
   },
   "outputs": [],
   "source": [
    "from pyspark.sql.functions import col"
   ]
  },
  {
   "cell_type": "code",
   "execution_count": 8,
   "metadata": {
    "collapsed": true
   },
   "outputs": [],
   "source": [
    "nba = nba.withColumn('Points', 2*col('2P') + 3*col('3P'))   # total sum of points"
   ]
  },
  {
   "cell_type": "code",
   "execution_count": 9,
   "metadata": {
    "collapsed": true
   },
   "outputs": [],
   "source": [
    "nba_scorers = nba.select('Player','2P','3P','Points').where(nba.Year >= 1980).groupBy('Player').sum()"
   ]
  },
  {
   "cell_type": "code",
   "execution_count": 10,
   "metadata": {},
   "outputs": [
    {
     "name": "stdout",
     "output_type": "stream",
     "text": [
      "+------------------+-------+-------+-----------+\n",
      "|            Player|sum(2P)|sum(3P)|sum(Points)|\n",
      "+------------------+-------+-------+-----------+\n",
      "|  Hakeem Olajuwon*|  10724|     25|      21523|\n",
      "|Dominique Wilkins*|   9865|    796|      22118|\n",
      "|      Vince Carter|   7669|   2292|      22214|\n",
      "|      LeBron James|   8956|   1467|      22313|\n",
      "|     Dirk Nowitzki|   8908|   1780|      23156|\n",
      "| Shaquille O'Neal*|  11660|      1|      23323|\n",
      "|     Eddie Johnson|  11113|    783|      24575|\n",
      "|   Michael Jordan*|  11611|    581|      24965|\n",
      "|       Kobe Bryant|   9892|   1827|      25265|\n",
      "|      Karl Malone*|  13443|     85|      27141|\n",
      "+------------------+-------+-------+-----------+\n",
      "\n"
     ]
    }
   ],
   "source": [
    "nba_scorers.orderBy(nba_scorers['sum(Points)'].desc()).limit(10).orderBy('sum(Points)').show()  # doesn't matter who played how long"
   ]
  },
  {
   "cell_type": "markdown",
   "metadata": {},
   "source": [
    "### analyze the average number of 3 point attempts for each season in a time limit of 48 minutes (an interval corresponding to an approximate full NBA game)"
   ]
  },
  {
   "cell_type": "markdown",
   "metadata": {},
   "source": [
    "Idea: for each player (row) there is a number of 3 point attempts and time played, so we can calculate an average number of 3PA in 48 minutes for each row. Taking average of it in each year we get an average number of 3PA in 48 mins for ONE player in each season. Since there are 10 players on the court during the game, we can just multiply the result by 10 and voila"
   ]
  },
  {
   "cell_type": "code",
   "execution_count": 11,
   "metadata": {
    "collapsed": true
   },
   "outputs": [],
   "source": [
    "nba = nba.where(nba.Year >= 1980)"
   ]
  },
  {
   "cell_type": "code",
   "execution_count": 12,
   "metadata": {},
   "outputs": [
    {
     "name": "stdout",
     "output_type": "stream",
     "text": [
      "+----+--------------------+---+---+----+-----+\n",
      "|Year|              Player|Pos|3PA|  MP| 3PAr|\n",
      "+----+--------------------+---+---+----+-----+\n",
      "|1980|Kareem Abdul-Jabbar*|  C|  1|3143|0.001|\n",
      "|1980|       Tom Abernethy| PF|  1|1222|0.003|\n",
      "|1980|         Alvan Adams|  C|  2|2168|0.002|\n",
      "|1980|     Tiny Archibald*| PG| 18|2864|0.023|\n",
      "|1980|       Dennis Awtrey|  C|  0| 560|  0.0|\n",
      "|1980|          Gus Bailey| SG|  1| 180|0.029|\n",
      "|1980|        James Bailey| PF|  0| 726|  0.0|\n",
      "|1980|        Greg Ballard| SF| 47|2438|0.043|\n",
      "|1980|         Mike Bantom| SF|  3|2330|0.004|\n",
      "|1980|       Marvin Barnes| PF|  0| 287|  0.0|\n",
      "+----+--------------------+---+---+----+-----+\n",
      "only showing top 10 rows\n",
      "\n"
     ]
    }
   ],
   "source": [
    "nba.select('Year','Player','Pos','3PA','MP','3PAr').show(10)"
   ]
  },
  {
   "cell_type": "markdown",
   "metadata": {},
   "source": [
    "Since some players appear more than once in one year statistics (those who played in more than one team during one season), I will sum their time on a court and 3PA up."
   ]
  },
  {
   "cell_type": "code",
   "execution_count": 13,
   "metadata": {
    "collapsed": true
   },
   "outputs": [],
   "source": [
    "nba_grouped = nba.select('Year','Player','3PA','MP').groupBy('Year','Player').sum('3PA','MP').orderBy('Year')\n",
    "nba_grouped = nba_grouped.withColumn('3PA_attempts_48min', nba_grouped['sum(3PA)'] / nba_grouped['sum(MP)'] * 48)  # avg 3pa/48m"
   ]
  },
  {
   "cell_type": "code",
   "execution_count": 14,
   "metadata": {},
   "outputs": [
    {
     "data": {
      "text/plain": [
       "15520"
      ]
     },
     "execution_count": 14,
     "metadata": {},
     "output_type": "execute_result"
    }
   ],
   "source": [
    "nba_grouped.count()"
   ]
  },
  {
   "cell_type": "code",
   "execution_count": 15,
   "metadata": {},
   "outputs": [
    {
     "name": "stdout",
     "output_type": "stream",
     "text": [
      "+----+----------------+--------+-------+------------------+\n",
      "|Year|          Player|sum(3PA)|sum(MP)|3PA_attempts_48min|\n",
      "+----+----------------+--------+-------+------------------+\n",
      "|1988|  Walker Russell|       1|      1|              48.0|\n",
      "|1989|   Barry Sumpter|       0|      1|               0.0|\n",
      "|1992|  Billy Thompson|       0|      1|               0.0|\n",
      "|1992|   Cedric Hunter|       0|      1|               0.0|\n",
      "|1992|     Steve Bardo|       0|      1|               0.0|\n",
      "|1994|    Chuck Nevitt|       0|      1|               0.0|\n",
      "|1997|     Bruce Bowen|       0|      1|               0.0|\n",
      "|1999|Gheorghe Muresan|       0|      1|               0.0|\n",
      "|2000| Randell Jackson|       0|      1|               0.0|\n",
      "|2001|      Andy Panko|       0|      1|               0.0|\n",
      "|2006|     Alex Scales|       0|      0|              null|\n",
      "|2007|       Von Wafer|       1|      1|              48.0|\n",
      "|2010|   JamesOn Curry|       0|      0|              null|\n",
      "|2013|    Damion James|       0|      0|              null|\n",
      "|2014| DeAndre Liggins|       0|      1|               0.0|\n",
      "|2017|    Danuel House|       0|      1|               0.0|\n",
      "+----+----------------+--------+-------+------------------+\n",
      "\n"
     ]
    }
   ],
   "source": [
    "nba_grouped.where(nba_grouped['sum(MP)'] <= 1).show()"
   ]
  },
  {
   "cell_type": "markdown",
   "metadata": {},
   "source": [
    "I should exclude those rows, where a player was on the court for less than ..?.. minutes, because then their rate would be meaningless. For example, someone was on the court just for one minute to make this throw. If he scores, his rate for 48 mins would be 48, if he doesn't, his rate would be 0."
   ]
  },
  {
   "cell_type": "code",
   "execution_count": 16,
   "metadata": {},
   "outputs": [
    {
     "data": {
      "text/plain": [
       "13436"
      ]
     },
     "execution_count": 16,
     "metadata": {},
     "output_type": "execute_result"
    }
   ],
   "source": [
    "nba_grouped.where(nba_grouped['sum(MP)'] > 180).count()"
   ]
  },
  {
   "cell_type": "markdown",
   "metadata": {},
   "source": [
    "Let's try with only those who played for more than 180 minutes a year."
   ]
  },
  {
   "cell_type": "code",
   "execution_count": 17,
   "metadata": {},
   "outputs": [
    {
     "name": "stdout",
     "output_type": "stream",
     "text": [
      "+----+----------------+--------+-------+--------------------+\n",
      "|Year|          Player|sum(3PA)|sum(MP)|  3PA_attempts_48min|\n",
      "+----+----------------+--------+-------+--------------------+\n",
      "|1980|      Mike Glenn|      10|    800|  0.6000000000000001|\n",
      "|1980|   Moses Malone*|       6|   3140| 0.09171974522292994|\n",
      "|1980|     Del Beshore|      26|    869|  1.4361334867663982|\n",
      "|1980|      Irv Kiffin|       0|    212|                 0.0|\n",
      "|1980|    John Johnson|       0|   2533|                 0.0|\n",
      "|1980|  Clemon Johnson|       0|   1541|                 0.0|\n",
      "|1980|   Quinn Buckner|       5|   1690| 0.14201183431952663|\n",
      "|1980|   Bob Wilkerson|      34|   2381|  0.6854262914741706|\n",
      "|1980|     Randy Smith|      53|   2677|  0.9503175196115055|\n",
      "|1980|    Phil Chenier|      24|   1700|  0.6776470588235295|\n",
      "|1980|       John Drew|       7|   2306| 0.14570685169124026|\n",
      "|1980|    Paul Dawkins|       5|    776| 0.30927835051546393|\n",
      "|1980| Joe Meriweather|       1|   1565|0.030670926517571886|\n",
      "|1980|       Billy Ray|      19|    235|  3.8808510638297875|\n",
      "|1980|       Sam Smith|      35|    496|   3.387096774193549|\n",
      "|1980|  Calvin Murphy*|      25|   2676|  0.4484304932735426|\n",
      "|1980|    Billy Paultz|       2|   4386| 0.02188782489740082|\n",
      "|1980|Spencer Haywood*|       4|   1544| 0.12435233160621761|\n",
      "|1980|      Joe Bryant|      34|   2328|  0.7010309278350515|\n",
      "|1980|    Gus Williams|      36|   2969|   0.582014146177164|\n",
      "+----+----------------+--------+-------+--------------------+\n",
      "only showing top 20 rows\n",
      "\n"
     ]
    }
   ],
   "source": [
    "nba_grouped.where(nba_grouped['sum(MP)'] > 180).show(20)"
   ]
  },
  {
   "cell_type": "code",
   "execution_count": 18,
   "metadata": {
    "collapsed": true
   },
   "outputs": [],
   "source": [
    "nba_48 = nba_grouped.select('Year','3PA_attempts_48min').where(nba_grouped['sum(MP)'] > 180).groupBy('Year').mean('3PA_attempts_48min')"
   ]
  },
  {
   "cell_type": "code",
   "execution_count": 19,
   "metadata": {
    "collapsed": true
   },
   "outputs": [],
   "source": [
    "nba_48 = nba_48.withColumn('3PA_all_players_game_1', nba_48['avg(3PA_attempts_48min)'] * 10)"
   ]
  },
  {
   "cell_type": "code",
   "execution_count": 20,
   "metadata": {},
   "outputs": [
    {
     "name": "stdout",
     "output_type": "stream",
     "text": [
      "+----+-----------------------+----------------------+\n",
      "|Year|avg(3PA_attempts_48min)|3PA_all_players_game_1|\n",
      "+----+-----------------------+----------------------+\n",
      "|1980|      0.562676673732483|      5.62676673732483|\n",
      "|1981|    0.42398062297202277|    4.2398062297202275|\n",
      "|1982|     0.4875117209665678|     4.875117209665678|\n",
      "|1983|     0.4579620793612997|     4.579620793612997|\n",
      "|1984|    0.47732244283213826|     4.773224428321383|\n",
      "|1985|     0.6094102494373806|     6.094102494373806|\n",
      "|1986|     0.6988589473074008|     6.988589473074009|\n",
      "|1987|     0.9435198114754478|     9.435198114754478|\n",
      "|1988|     0.9953920912930633|     9.953920912930633|\n",
      "|1989|     1.1966381221658755|    11.966381221658756|\n",
      "|1990|     1.2536729096928119|    12.536729096928118|\n",
      "|1991|     1.4257470951631674|    14.257470951631674|\n",
      "|1992|       1.53185134509601|      15.3185134509601|\n",
      "|1993|     1.6231862519854094|    16.231862519854094|\n",
      "|1994|     1.8273852819692518|    18.273852819692518|\n",
      "|1995|       2.79104648157519|      27.9104648157519|\n",
      "|1996|     2.9631451586876536|    29.631451586876537|\n",
      "|1997|      3.151132397891295|     31.51132397891295|\n",
      "|1998|      2.349334538564686|     23.49334538564686|\n",
      "|1999|      2.521447841130222|     25.21447841130222|\n",
      "+----+-----------------------+----------------------+\n",
      "only showing top 20 rows\n",
      "\n"
     ]
    }
   ],
   "source": [
    "nba_48.show()"
   ]
  },
  {
   "cell_type": "markdown",
   "metadata": {},
   "source": [
    "Different approach"
   ]
  },
  {
   "cell_type": "code",
   "execution_count": 21,
   "metadata": {
    "collapsed": true
   },
   "outputs": [],
   "source": [
    "nba_yearly = nba_grouped.groupBy('Year').sum('sum(3PA)', 'sum(MP)')"
   ]
  },
  {
   "cell_type": "code",
   "execution_count": 22,
   "metadata": {},
   "outputs": [
    {
     "name": "stdout",
     "output_type": "stream",
     "text": [
      "+----+-------------+------------+\n",
      "|Year|sum(sum(3PA))|sum(sum(MP))|\n",
      "+----+-------------+------------+\n",
      "|1990|        15361|      571889|\n",
      "|2003|        37101|      608151|\n",
      "|2007|        44269|      630031|\n",
      "|2015|        63420|      678196|\n",
      "|2006|        42898|      646039|\n",
      "|2013|        52958|      637705|\n",
      "|1988|        10735|      507434|\n",
      "|1997|        44011|      632501|\n",
      "|1994|        23031|      568690|\n",
      "|2014|        58438|      651866|\n",
      "|2004|        39708|      653247|\n",
      "|1991|        16587|      565462|\n",
      "|1982|         4655|      490771|\n",
      "|1989|        14496|      535650|\n",
      "|1996|        41535|      637689|\n",
      "|1998|        34026|      636844|\n",
      "|1985|         6008|      466340|\n",
      "|2012|        38277|      507163|\n",
      "|1987|         9177|      476767|\n",
      "|2009|        50535|      662148|\n",
      "+----+-------------+------------+\n",
      "only showing top 20 rows\n",
      "\n"
     ]
    }
   ],
   "source": [
    "nba_yearly.show()"
   ]
  },
  {
   "cell_type": "markdown",
   "metadata": {},
   "source": [
    "So this is a total time played and 3 point attempts for a single player. Normalizing it to 48 minutes would mean a single player on the court, but there are 10 players in the same time, so it's 480 minutes for all of them."
   ]
  },
  {
   "cell_type": "code",
   "execution_count": 23,
   "metadata": {
    "collapsed": true
   },
   "outputs": [],
   "source": [
    "nba_yearly = nba_yearly.withColumn('3PA_all_players_game_2', nba_yearly['sum(sum(3PA))'] / nba_yearly['sum(sum(MP))'] * 480).orderBy('Year')"
   ]
  },
  {
   "cell_type": "code",
   "execution_count": 24,
   "metadata": {},
   "outputs": [
    {
     "name": "stdout",
     "output_type": "stream",
     "text": [
      "+----+-------------+------------+----------------------+\n",
      "|Year|sum(sum(3PA))|sum(sum(MP))|3PA_all_players_game_2|\n",
      "+----+-------------+------------+----------------------+\n",
      "|1980|         5522|      484812|    5.4671914061533124|\n",
      "|1981|         4161|      484370|    4.1234593389351115|\n",
      "|1982|         4655|      490771|    4.5528362515307546|\n",
      "|1983|         4592|      498741|     4.419448170493302|\n",
      "|1984|         4599|      465432|     4.742948486567318|\n",
      "|1985|         6008|      466340|      6.18398593301025|\n",
      "|1986|         6677|      476128|    6.7312991464480145|\n",
      "|1987|         9177|      476767|      9.23923006416132|\n",
      "|1988|        10735|      507434|    10.154621093580644|\n",
      "|1989|        14496|      535650|    12.989974796975638|\n",
      "|1990|        15361|      571889|    12.892851584835519|\n",
      "|1991|        16587|      565462|    14.080097336337367|\n",
      "|1992|        17433|      556538|     15.03552318080706|\n",
      "|1993|        20384|      553795|     17.66776514775323|\n",
      "|1994|        23031|      568690|     19.43920237739366|\n",
      "|1995|        35874|      560989|    30.694933412241596|\n",
      "|1996|        41535|      637689|    31.264142865879762|\n",
      "|1997|        44011|      632501|     33.39959936822235|\n",
      "|1998|        34026|      636844|    25.645966673157005|\n",
      "|1999|        20261|      370984|     26.21482328078839|\n",
      "+----+-------------+------------+----------------------+\n",
      "only showing top 20 rows\n",
      "\n"
     ]
    }
   ],
   "source": [
    "nba_yearly.show()"
   ]
  },
  {
   "cell_type": "markdown",
   "metadata": {},
   "source": [
    "Results seem similar, that's cool!"
   ]
  },
  {
   "cell_type": "code",
   "execution_count": 25,
   "metadata": {
    "collapsed": true
   },
   "outputs": [],
   "source": [
    "import matplotlib.pyplot as plt\n",
    "import pandas as pd\n",
    "import numpy as np"
   ]
  },
  {
   "cell_type": "code",
   "execution_count": 26,
   "metadata": {
    "collapsed": true
   },
   "outputs": [],
   "source": [
    "approach2 = nba_yearly.toPandas()[['Year','3PA_all_players_game_2']]\n",
    "approach1 = nba_48.toPandas()[['Year','3PA_all_players_game_1']]"
   ]
  },
  {
   "cell_type": "code",
   "execution_count": 27,
   "metadata": {
    "collapsed": true,
    "scrolled": true
   },
   "outputs": [],
   "source": [
    "approach1 = approach1.set_index('Year')\n",
    "approach2 = approach2.set_index('Year')\n",
    "both_approaches = pd.concat([approach1, approach2], axis=1)"
   ]
  },
  {
   "cell_type": "code",
   "execution_count": 28,
   "metadata": {},
   "outputs": [
    {
     "data": {
      "image/png": "[encoded data removed]",
      "text/plain": [
       "<Figure size 1080x360 with 1 Axes>"
      ]
     },
     "metadata": {
      "needs_background": "light"
     },
     "output_type": "display_data"
    }
   ],
   "source": [
    "fig, ax = plt.subplots(1,1, figsize=(15, 5))\n",
    "ax.plot(both_approaches['3PA_all_players_game_1'], color='green')\n",
    "ax.plot(both_approaches['3PA_all_players_game_2'], color='blue')\n",
    "ax.legend(['using first approach','using second approach'])\n",
    "ax.set_title('Average number of 3P attempts in single game in relation to seasons')\n",
    "ax.set_xlabel('Year')\n",
    "ax.set_ylabel('Number of attempts')\n",
    "ax.spines['bottom'].set_color('0.5')\n",
    "ax.spines['top'].set_color(None)\n",
    "ax.spines['left'].set_color('0.5')\n",
    "ax.spines['right'].set_color(None)\n",
    "ax.grid(alpha=0.3)\n",
    "#fig.tight_layout(pad=3.0)\n",
    "plt.show()"
   ]
  },
  {
   "cell_type": "markdown",
   "metadata": {},
   "source": [
    "### predict the average number of 3 point attempts for the next 5 years"
   ]
  },
  {
   "cell_type": "markdown",
   "metadata": {},
   "source": [
    "##### linear regression in Spark\n",
    "basing on lecture notes (http://prac.im.pwr.wroc.pl/~szwabin/assets/bdata/5.html)"
   ]
  },
  {
   "cell_type": "code",
   "execution_count": 29,
   "metadata": {
    "scrolled": true
   },
   "outputs": [
    {
     "name": "stdout",
     "output_type": "stream",
     "text": [
      "+--------+------------------+\n",
      "|    year|               3PA|\n",
      "+--------+------------------+\n",
      "|[1980.0]|5.4671914061533124|\n",
      "|[1981.0]|4.1234593389351115|\n",
      "|[1982.0]|4.5528362515307546|\n",
      "|[1983.0]| 4.419448170493302|\n",
      "|[1984.0]| 4.742948486567318|\n",
      "|[1985.0]|  6.18398593301025|\n",
      "|[1986.0]|6.7312991464480145|\n",
      "|[1987.0]|  9.23923006416132|\n",
      "|[1988.0]|10.154621093580644|\n",
      "|[1989.0]|12.989974796975638|\n",
      "|[1990.0]|12.892851584835519|\n",
      "|[1991.0]|14.080097336337367|\n",
      "|[1992.0]| 15.03552318080706|\n",
      "|[1993.0]| 17.66776514775323|\n",
      "|[1994.0]| 19.43920237739366|\n",
      "|[1995.0]|30.694933412241596|\n",
      "|[1996.0]|31.264142865879762|\n",
      "|[1997.0]| 33.39959936822235|\n",
      "|[1998.0]|25.645966673157005|\n",
      "|[1999.0]| 26.21482328078839|\n",
      "+--------+------------------+\n",
      "only showing top 20 rows\n",
      "\n"
     ]
    }
   ],
   "source": [
    "# transforming data structure\n",
    "from pyspark.ml.linalg import Vectors\n",
    "nba_yearly_transformed = nba_yearly.rdd.map(lambda x: [Vectors.dense(x[0]), x[-1]]).toDF(['year', '3PA'])\n",
    "nba_yearly_transformed.show()"
   ]
  },
  {
   "cell_type": "code",
   "execution_count": 30,
   "metadata": {
    "collapsed": true
   },
   "outputs": [],
   "source": [
    "# linear regression model\n",
    "from pyspark.ml.regression import LinearRegression\n",
    "lr = LinearRegression(featuresCol = 'year', labelCol = '3PA')"
   ]
  },
  {
   "cell_type": "code",
   "execution_count": 32,
   "metadata": {},
   "outputs": [],
   "source": [
    "# fitting the model\n",
    "lr_model = lr.fit(nba_yearly_transformed)"
   ]
  },
  {
   "cell_type": "code",
   "execution_count": 33,
   "metadata": {
    "scrolled": true
   },
   "outputs": [
    {
     "name": "stdout",
     "output_type": "stream",
     "text": [
      "+--------+------------------+------------------+\n",
      "|    year|               3PA|        prediction|\n",
      "+--------+------------------+------------------+\n",
      "|[1980.0]|5.4671914061533124|2.4999064938192532|\n",
      "|[1981.0]|4.1234593389351115| 3.709330583470546|\n",
      "|[1982.0]|4.5528362515307546| 4.918754673122294|\n",
      "|[1983.0]| 4.419448170493302| 6.128178762773587|\n",
      "|[1984.0]| 4.742948486567318|7.3376028524248795|\n",
      "|[1985.0]|  6.18398593301025| 8.547026942076172|\n",
      "|[1986.0]|6.7312991464480145|  9.75645103172792|\n",
      "|[1987.0]|  9.23923006416132|10.965875121379213|\n",
      "|[1988.0]|10.154621093580644|12.175299211030506|\n",
      "|[1989.0]|12.989974796975638|13.384723300681799|\n",
      "|[1990.0]|12.892851584835519|14.594147390333546|\n",
      "|[1991.0]|14.080097336337367| 15.80357147998484|\n",
      "|[1992.0]| 15.03552318080706|17.012995569636132|\n",
      "|[1993.0]| 17.66776514775323|18.222419659287425|\n",
      "|[1994.0]| 19.43920237739366|19.431843748939173|\n",
      "|[1995.0]|30.694933412241596|20.641267838590466|\n",
      "|[1996.0]|31.264142865879762| 21.85069192824176|\n",
      "|[1997.0]| 33.39959936822235|23.060116017893506|\n",
      "|[1998.0]|25.645966673157005|  24.2695401075448|\n",
      "|[1999.0]| 26.21482328078839|25.478964197196092|\n",
      "+--------+------------------+------------------+\n",
      "only showing top 20 rows\n",
      "\n"
     ]
    }
   ],
   "source": [
    "# prediction on the training data\n",
    "prediction = lr_model.transform(nba_yearly_transformed)\n",
    "prediction.show()"
   ]
  },
  {
   "cell_type": "code",
   "execution_count": 34,
   "metadata": {},
   "outputs": [
    {
     "name": "stdout",
     "output_type": "stream",
     "text": [
      "Linear coefficient:  [1.209424089651413]\n",
      "Intercept:  -2392.1597910159785\n"
     ]
    }
   ],
   "source": [
    "print(\"Linear coefficient: \", lr_model.coefficients)\n",
    "print(\"Intercept: \", lr_model.intercept)"
   ]
  },
  {
   "cell_type": "code",
   "execution_count": 63,
   "metadata": {},
   "outputs": [
    {
     "name": "stdout",
     "output_type": "stream",
     "text": [
      "+--------+\n",
      "|    year|\n",
      "+--------+\n",
      "|[2018.0]|\n",
      "|[2019.0]|\n",
      "|[2020.0]|\n",
      "|[2021.0]|\n",
      "|[2022.0]|\n",
      "+--------+\n",
      "\n"
     ]
    }
   ],
   "source": [
    "# predicting for 5 years ahead\n",
    "next_years = spark.createDataFrame(pd.DataFrame({'year' : range(2018,2023)}))\n",
    "next_years_transformed = next_years.rdd.map(lambda x: [Vectors.dense(x[0])]).toDF(['year'])\n",
    "next_years_transformed.show()"
   ]
  },
  {
   "cell_type": "code",
   "execution_count": 64,
   "metadata": {},
   "outputs": [
    {
     "name": "stdout",
     "output_type": "stream",
     "text": [
      "+--------+------------------+\n",
      "|    year|        prediction|\n",
      "+--------+------------------+\n",
      "|[2018.0]| 48.45802190057293|\n",
      "|[2019.0]| 49.66744599022422|\n",
      "|[2020.0]| 50.87687007987597|\n",
      "|[2021.0]|52.086294169527264|\n",
      "|[2022.0]| 53.29571825917856|\n",
      "+--------+------------------+\n",
      "\n"
     ]
    }
   ],
   "source": [
    "next_years_prediction = lr_model.transform(next_years_transformed)\n",
    "next_years_prediction.show()"
   ]
  },
  {
   "cell_type": "code",
   "execution_count": 65,
   "metadata": {
    "collapsed": true
   },
   "outputs": [],
   "source": [
    "past = prediction.toPandas()\n",
    "future = next_years_prediction.toPandas()"
   ]
  },
  {
   "cell_type": "code",
   "execution_count": 66,
   "metadata": {},
   "outputs": [],
   "source": [
    "past['year'] = [int(year[0]) for year in past['year']]\n",
    "future['year'] = [int(year[0]) for year in future['year']]"
   ]
  },
  {
   "cell_type": "code",
   "execution_count": 67,
   "metadata": {
    "scrolled": true
   },
   "outputs": [],
   "source": [
    "pred = pd.concat([past[['year','prediction']], future])"
   ]
  },
  {
   "cell_type": "code",
   "execution_count": 70,
   "metadata": {},
   "outputs": [
    {
     "data": {
      "image/png": "[encoded data removed]",
      "text/plain": [
       "<Figure size 1080x360 with 1 Axes>"
      ]
     },
     "metadata": {
      "needs_background": "light"
     },
     "output_type": "display_data"
    }
   ],
   "source": [
    "fig, ax = plt.subplots(1,1, figsize=(15, 5))\n",
    "ax.plot(past['year'], past['3PA'], color='green')\n",
    "ax.plot(past['year'], pred[:-5]['prediction'], color='grey')\n",
    "ax.plot(pred[-6:]['year'], pred[-6:]['prediction'], color='red')\n",
    "ax.legend(['real data','fitted linear function','prediction'])\n",
    "ax.set_title('Average number of 3P attempts in single game in relation to seasons')\n",
    "ax.set_xlabel('Year')\n",
    "ax.set_ylabel('Number of attempts')\n",
    "ax.spines['bottom'].set_color('0.5')\n",
    "ax.spines['top'].set_color(None)\n",
    "ax.spines['left'].set_color('0.5')\n",
    "ax.spines['right'].set_color(None)\n",
    "ax.grid(alpha=0.3)\n",
    "#fig.tight_layout(pad=3.0)\n",
    "plt.show()"
   ]
  },
  {
   "cell_type": "markdown",
   "metadata": {},
   "source": [
    "##### LSTM\n",
    "\n",
    "I will take the values obtained in the second approach from the previous task, because it doesn't exlude any players."
   ]
  },
  {
   "cell_type": "code",
   "execution_count": 29,
   "metadata": {},
   "outputs": [
    {
     "name": "stderr",
     "output_type": "stream",
     "text": [
      "C:\\Users\\zuzan\\Anaconda3\\lib\\site-packages\\h5py\\__init__.py:36: FutureWarning: Conversion of the second argument of issubdtype from `float` to `np.floating` is deprecated. In future, it will be treated as `np.float64 == np.dtype(float).type`.\n",
      "  from ._conv import register_converters as _register_converters\n",
      "Using TensorFlow backend.\n"
     ]
    }
   ],
   "source": [
    "from sklearn.model_selection import train_test_split\n",
    "import tensorflow as tf\n",
    "from keras.layers import Dense, LSTM\n",
    "from keras.models import Sequential"
   ]
  },
  {
   "cell_type": "code",
   "execution_count": 30,
   "metadata": {
    "collapsed": true
   },
   "outputs": [],
   "source": [
    "def create_dataset(dataset, look_back=5, pred_window=1):\n",
    "    'function to create windows for training'\n",
    "    dataX, dataY = [], []\n",
    "    for i in np.arange(0, len(dataset)-look_back, pred_window):   # to -pred_window ucina z danych ostatnie okno :(\n",
    "        a = dataset[i:(i+look_back)]\n",
    "        dataX.append(a.reshape(-1,1))\n",
    "        dataY.append(dataset[(i + look_back):(i + look_back + pred_window)])\n",
    "    return np.array(dataX), np.array(dataY)"
   ]
  },
  {
   "cell_type": "code",
   "execution_count": 74,
   "metadata": {
    "scrolled": true
   },
   "outputs": [
    {
     "data": {
      "text/html": [
       "<div>\n",
       "<style scoped>\n",
       "    .dataframe tbody tr th:only-of-type {\n",
       "        vertical-align: middle;\n",
       "    }\n",
       "\n",
       "    .dataframe tbody tr th {\n",
       "        vertical-align: top;\n",
       "    }\n",
       "\n",
       "    .dataframe thead th {\n",
       "        text-align: right;\n",
       "    }\n",
       "</style>\n",
       "<table border=\"1\" class=\"dataframe\">\n",
       "  <thead>\n",
       "    <tr style=\"text-align: right;\">\n",
       "      <th></th>\n",
       "      <th>3PA_all_players_game_2</th>\n",
       "    </tr>\n",
       "    <tr>\n",
       "      <th>Year</th>\n",
       "      <th></th>\n",
       "    </tr>\n",
       "  </thead>\n",
       "  <tbody>\n",
       "    <tr>\n",
       "      <th>1980</th>\n",
       "      <td>0.024201</td>\n",
       "    </tr>\n",
       "    <tr>\n",
       "      <th>1981</th>\n",
       "      <td>0.000000</td>\n",
       "    </tr>\n",
       "    <tr>\n",
       "      <th>1982</th>\n",
       "      <td>0.007733</td>\n",
       "    </tr>\n",
       "    <tr>\n",
       "      <th>1983</th>\n",
       "      <td>0.005331</td>\n",
       "    </tr>\n",
       "    <tr>\n",
       "      <th>1984</th>\n",
       "      <td>0.011157</td>\n",
       "    </tr>\n",
       "    <tr>\n",
       "      <th>1985</th>\n",
       "      <td>0.037111</td>\n",
       "    </tr>\n",
       "    <tr>\n",
       "      <th>1986</th>\n",
       "      <td>0.046968</td>\n",
       "    </tr>\n",
       "    <tr>\n",
       "      <th>1987</th>\n",
       "      <td>0.092136</td>\n",
       "    </tr>\n",
       "    <tr>\n",
       "      <th>1988</th>\n",
       "      <td>0.108623</td>\n",
       "    </tr>\n",
       "    <tr>\n",
       "      <th>1989</th>\n",
       "      <td>0.159688</td>\n",
       "    </tr>\n",
       "    <tr>\n",
       "      <th>1990</th>\n",
       "      <td>0.157939</td>\n",
       "    </tr>\n",
       "    <tr>\n",
       "      <th>1991</th>\n",
       "      <td>0.179321</td>\n",
       "    </tr>\n",
       "    <tr>\n",
       "      <th>1992</th>\n",
       "      <td>0.196529</td>\n",
       "    </tr>\n",
       "    <tr>\n",
       "      <th>1993</th>\n",
       "      <td>0.243936</td>\n",
       "    </tr>\n",
       "    <tr>\n",
       "      <th>1994</th>\n",
       "      <td>0.275840</td>\n",
       "    </tr>\n",
       "    <tr>\n",
       "      <th>1995</th>\n",
       "      <td>0.478558</td>\n",
       "    </tr>\n",
       "    <tr>\n",
       "      <th>1996</th>\n",
       "      <td>0.488810</td>\n",
       "    </tr>\n",
       "    <tr>\n",
       "      <th>1997</th>\n",
       "      <td>0.527270</td>\n",
       "    </tr>\n",
       "    <tr>\n",
       "      <th>1998</th>\n",
       "      <td>0.387625</td>\n",
       "    </tr>\n",
       "    <tr>\n",
       "      <th>1999</th>\n",
       "      <td>0.397870</td>\n",
       "    </tr>\n",
       "    <tr>\n",
       "      <th>2000</th>\n",
       "      <td>0.416334</td>\n",
       "    </tr>\n",
       "    <tr>\n",
       "      <th>2001</th>\n",
       "      <td>0.401171</td>\n",
       "    </tr>\n",
       "    <tr>\n",
       "      <th>2002</th>\n",
       "      <td>0.456755</td>\n",
       "    </tr>\n",
       "    <tr>\n",
       "      <th>2003</th>\n",
       "      <td>0.453129</td>\n",
       "    </tr>\n",
       "    <tr>\n",
       "      <th>2004</th>\n",
       "      <td>0.451221</td>\n",
       "    </tr>\n",
       "    <tr>\n",
       "      <th>2005</th>\n",
       "      <td>0.499405</td>\n",
       "    </tr>\n",
       "    <tr>\n",
       "      <th>2006</th>\n",
       "      <td>0.499771</td>\n",
       "    </tr>\n",
       "    <tr>\n",
       "      <th>2007</th>\n",
       "      <td>0.533168</td>\n",
       "    </tr>\n",
       "    <tr>\n",
       "      <th>2008</th>\n",
       "      <td>0.566066</td>\n",
       "    </tr>\n",
       "    <tr>\n",
       "      <th>2009</th>\n",
       "      <td>0.585513</td>\n",
       "    </tr>\n",
       "    <tr>\n",
       "      <th>2010</th>\n",
       "      <td>0.573225</td>\n",
       "    </tr>\n",
       "    <tr>\n",
       "      <th>2011</th>\n",
       "      <td>0.591841</td>\n",
       "    </tr>\n",
       "    <tr>\n",
       "      <th>2012</th>\n",
       "      <td>0.578191</td>\n",
       "    </tr>\n",
       "    <tr>\n",
       "      <th>2013</th>\n",
       "      <td>0.643649</td>\n",
       "    </tr>\n",
       "    <tr>\n",
       "      <th>2014</th>\n",
       "      <td>0.700728</td>\n",
       "    </tr>\n",
       "    <tr>\n",
       "      <th>2015</th>\n",
       "      <td>0.734145</td>\n",
       "    </tr>\n",
       "    <tr>\n",
       "      <th>2016</th>\n",
       "      <td>0.790646</td>\n",
       "    </tr>\n",
       "    <tr>\n",
       "      <th>2017</th>\n",
       "      <td>0.900000</td>\n",
       "    </tr>\n",
       "  </tbody>\n",
       "</table>\n",
       "</div>"
      ],
      "text/plain": [
       "      3PA_all_players_game_2\n",
       "Year                        \n",
       "1980                0.024201\n",
       "1981                0.000000\n",
       "1982                0.007733\n",
       "1983                0.005331\n",
       "1984                0.011157\n",
       "1985                0.037111\n",
       "1986                0.046968\n",
       "1987                0.092136\n",
       "1988                0.108623\n",
       "1989                0.159688\n",
       "1990                0.157939\n",
       "1991                0.179321\n",
       "1992                0.196529\n",
       "1993                0.243936\n",
       "1994                0.275840\n",
       "1995                0.478558\n",
       "1996                0.488810\n",
       "1997                0.527270\n",
       "1998                0.387625\n",
       "1999                0.397870\n",
       "2000                0.416334\n",
       "2001                0.401171\n",
       "2002                0.456755\n",
       "2003                0.453129\n",
       "2004                0.451221\n",
       "2005                0.499405\n",
       "2006                0.499771\n",
       "2007                0.533168\n",
       "2008                0.566066\n",
       "2009                0.585513\n",
       "2010                0.573225\n",
       "2011                0.591841\n",
       "2012                0.578191\n",
       "2013                0.643649\n",
       "2014                0.700728\n",
       "2015                0.734145\n",
       "2016                0.790646\n",
       "2017                0.900000"
      ]
     },
     "execution_count": 74,
     "metadata": {},
     "output_type": "execute_result"
    }
   ],
   "source": [
    "from sklearn.preprocessing import MinMaxScaler\n",
    "df_scaled = approach2.copy()\n",
    "scaler = MinMaxScaler(feature_range=(0, 0.9))\n",
    "df_scaled['3PA_all_players_game_2'] = scaler.fit_transform(df_scaled[['3PA_all_players_game_2']])\n",
    "df_scaled"
   ]
  },
  {
   "cell_type": "code",
   "execution_count": 102,
   "metadata": {
    "collapsed": true
   },
   "outputs": [],
   "source": [
    "look_back = 15\n",
    "pred_window = 1\n",
    "X, Y = create_dataset(np.array(df_scaled['3PA_all_players_game_2']), look_back=look_back, pred_window=pred_window)\n",
    "X_train, X_test, Y_train, Y_test = train_test_split(X, Y, test_size=0.15, shuffle=False)"
   ]
  },
  {
   "cell_type": "code",
   "execution_count": 103,
   "metadata": {
    "scrolled": true
   },
   "outputs": [
    {
     "name": "stdout",
     "output_type": "stream",
     "text": [
      "Model: \"sequential_13\"\n",
      "_________________________________________________________________\n",
      "Layer (type)                 Output Shape              Param #   \n",
      "=================================================================\n",
      "lstm_25 (LSTM)               (None, 15, 30)            3840      \n",
      "_________________________________________________________________\n",
      "lstm_26 (LSTM)               (None, 10)                1640      \n",
      "_________________________________________________________________\n",
      "dense_13 (Dense)             (None, 1)                 11        \n",
      "=================================================================\n",
      "Total params: 5,491\n",
      "Trainable params: 5,491\n",
      "Non-trainable params: 0\n",
      "_________________________________________________________________\n",
      "Train on 19 samples, validate on 4 samples\n",
      "Epoch 1/50\n",
      "19/19 [==============================] - 1s 58ms/step - loss: 0.1337 - val_loss: 0.0999\n",
      "Epoch 2/50\n",
      "19/19 [==============================] - 0s 13ms/step - loss: 0.0095 - val_loss: 0.0167\n",
      "Epoch 3/50\n",
      "19/19 [==============================] - 0s 18ms/step - loss: 0.0048 - val_loss: 0.0431\n",
      "Epoch 4/50\n",
      "19/19 [==============================] - 0s 15ms/step - loss: 0.0042 - val_loss: 0.0347\n",
      "Epoch 5/50\n",
      "19/19 [==============================] - 0s 15ms/step - loss: 0.0043 - val_loss: 0.0358\n",
      "Epoch 6/50\n",
      "19/19 [==============================] - 0s 14ms/step - loss: 0.0036 - val_loss: 0.0394\n",
      "Epoch 7/50\n",
      "19/19 [==============================] - 0s 14ms/step - loss: 0.0034 - val_loss: 0.0418\n",
      "Epoch 8/50\n",
      "19/19 [==============================] - 0s 15ms/step - loss: 0.0036 - val_loss: 0.0463\n",
      "Epoch 9/50\n",
      "19/19 [==============================] - 0s 15ms/step - loss: 0.0039 - val_loss: 0.0477\n",
      "Epoch 10/50\n",
      "19/19 [==============================] - 0s 14ms/step - loss: 0.0035 - val_loss: 0.0405\n",
      "Epoch 11/50\n",
      "19/19 [==============================] - 0s 14ms/step - loss: 0.0033 - val_loss: 0.0433\n",
      "Epoch 12/50\n",
      "19/19 [==============================] - 0s 13ms/step - loss: 0.0035 - val_loss: 0.0425\n",
      "Epoch 13/50\n",
      "19/19 [==============================] - 0s 15ms/step - loss: 0.0033 - val_loss: 0.0449\n",
      "Epoch 14/50\n",
      "19/19 [==============================] - 0s 14ms/step - loss: 0.0032 - val_loss: 0.0507\n",
      "Epoch 15/50\n",
      "19/19 [==============================] - 0s 15ms/step - loss: 0.0032 - val_loss: 0.0429\n",
      "Epoch 16/50\n",
      "19/19 [==============================] - 0s 16ms/step - loss: 0.0032 - val_loss: 0.0458\n",
      "Epoch 17/50\n",
      "19/19 [==============================] - 0s 14ms/step - loss: 0.0039 - val_loss: 0.0422\n",
      "Epoch 18/50\n",
      "19/19 [==============================] - 0s 14ms/step - loss: 0.0037 - val_loss: 0.0418\n",
      "Epoch 19/50\n",
      "19/19 [==============================] - 0s 14ms/step - loss: 0.0035 - val_loss: 0.0415\n",
      "Epoch 20/50\n",
      "19/19 [==============================] - 0s 15ms/step - loss: 0.0039 - val_loss: 0.0608\n",
      "Epoch 21/50\n",
      "19/19 [==============================] - 0s 15ms/step - loss: 0.0035 - val_loss: 0.0324\n",
      "Epoch 22/50\n",
      "19/19 [==============================] - 0s 15ms/step - loss: 0.0039 - val_loss: 0.0541\n",
      "Epoch 23/50\n",
      "19/19 [==============================] - 0s 13ms/step - loss: 0.0035 - val_loss: 0.0469\n",
      "Epoch 24/50\n",
      "19/19 [==============================] - 0s 16ms/step - loss: 0.0035 - val_loss: 0.0436\n",
      "Epoch 25/50\n",
      "19/19 [==============================] - 0s 15ms/step - loss: 0.0034 - val_loss: 0.0417\n",
      "Epoch 26/50\n",
      "19/19 [==============================] - 0s 15ms/step - loss: 0.0034 - val_loss: 0.0431\n",
      "Epoch 27/50\n",
      "19/19 [==============================] - 0s 15ms/step - loss: 0.0034 - val_loss: 0.0447\n",
      "Epoch 28/50\n",
      "19/19 [==============================] - 0s 14ms/step - loss: 0.0042 - val_loss: 0.0559\n",
      "Epoch 29/50\n",
      "19/19 [==============================] - 0s 14ms/step - loss: 0.0034 - val_loss: 0.0487\n",
      "Epoch 30/50\n",
      "19/19 [==============================] - 0s 14ms/step - loss: 0.0034 - val_loss: 0.0395\n",
      "Epoch 31/50\n",
      "19/19 [==============================] - 0s 15ms/step - loss: 0.0039 - val_loss: 0.0656\n",
      "Epoch 32/50\n",
      "19/19 [==============================] - 0s 14ms/step - loss: 0.0047 - val_loss: 0.0377\n",
      "Epoch 33/50\n",
      "19/19 [==============================] - 0s 15ms/step - loss: 0.0035 - val_loss: 0.0531\n",
      "Epoch 34/50\n",
      "19/19 [==============================] - 0s 15ms/step - loss: 0.0032 - val_loss: 0.0512\n",
      "Epoch 35/50\n",
      "19/19 [==============================] - 0s 14ms/step - loss: 0.0032 - val_loss: 0.0495\n",
      "Epoch 36/50\n",
      "19/19 [==============================] - 0s 15ms/step - loss: 0.0052 - val_loss: 0.0638\n",
      "Epoch 37/50\n",
      "19/19 [==============================] - 0s 15ms/step - loss: 0.0031 - val_loss: 0.0390\n",
      "Epoch 38/50\n",
      "19/19 [==============================] - 0s 15ms/step - loss: 0.0043 - val_loss: 0.0431\n",
      "Epoch 39/50\n",
      "19/19 [==============================] - 0s 15ms/step - loss: 0.0038 - val_loss: 0.0612\n",
      "Epoch 40/50\n",
      "19/19 [==============================] - 0s 15ms/step - loss: 0.0040 - val_loss: 0.0407\n",
      "Epoch 41/50\n",
      "19/19 [==============================] - ETA: 0s - loss: 0.003 - 0s 15ms/step - loss: 0.0036 - val_loss: 0.0445\n",
      "Epoch 42/50\n",
      "19/19 [==============================] - 0s 15ms/step - loss: 0.0031 - val_loss: 0.0526\n",
      "Epoch 43/50\n",
      "19/19 [==============================] - 0s 13ms/step - loss: 0.0031 - val_loss: 0.0558\n",
      "Epoch 44/50\n",
      "19/19 [==============================] - 0s 15ms/step - loss: 0.0035 - val_loss: 0.04430\n",
      "Epoch 45/50\n",
      "19/19 [==============================] - 0s 16ms/step - loss: 0.0032 - val_loss: 0.0463\n",
      "Epoch 46/50\n",
      "19/19 [==============================] - 0s 15ms/step - loss: 0.0034 - val_loss: 0.0556\n",
      "Epoch 47/50\n",
      "19/19 [==============================] - 0s 14ms/step - loss: 0.0042 - val_loss: 0.0601\n",
      "Epoch 48/50\n",
      "19/19 [==============================] - 0s 14ms/step - loss: 0.0036 - val_loss: 0.0406\n",
      "Epoch 49/50\n",
      "19/19 [==============================] - 0s 15ms/step - loss: 0.0041 - val_loss: 0.0537\n",
      "Epoch 50/50\n",
      "19/19 [==============================] - 0s 13ms/step - loss: 0.0029 - val_loss: 0.0415\n"
     ]
    },
    {
     "data": {
      "text/plain": [
       "<keras.callbacks.callbacks.History at 0x18f8beeff60>"
      ]
     },
     "execution_count": 103,
     "metadata": {},
     "output_type": "execute_result"
    }
   ],
   "source": [
    "model = Sequential()\n",
    "model.add(LSTM(30, input_shape=(look_back,1), return_sequences=True))\n",
    "#model.add(LSTM(20, return_sequences=True))\n",
    "model.add(LSTM(10))\n",
    "model.add(Dense(pred_window))\n",
    "\n",
    "model.compile(optimizer='adam', loss='mean_squared_error')\n",
    "model.summary()\n",
    "model.fit(X_train, Y_train, batch_size=1, epochs=50, validation_data=(X_test, Y_test))"
   ]
  },
  {
   "cell_type": "code",
   "execution_count": 104,
   "metadata": {
    "collapsed": true
   },
   "outputs": [],
   "source": [
    "pred = []\n",
    "x = X_test[[0]]\n",
    "for i in range(len(Y_test)):\n",
    "    p = model.predict(x)\n",
    "    x = np.expand_dims(np.append(x[0][pred_window:], p.reshape(-1,1), axis=0), axis=0)\n",
    "    pred = np.append(pred, p)"
   ]
  },
  {
   "cell_type": "code",
   "execution_count": 105,
   "metadata": {},
   "outputs": [
    {
     "data": {
      "text/plain": [
       "array([27.204264, 27.807566, 28.513031, 29.28907 , 29.967161, 30.65165 ,\n",
       "       31.310629, 31.92503 , 32.51472 , 33.05764 , 33.510674, 33.996937,\n",
       "       34.433826, 34.86375 , 35.253803, 35.611225, 35.721027, 35.85155 ,\n",
       "       35.939274], dtype=float32)"
      ]
     },
     "execution_count": 105,
     "metadata": {},
     "output_type": "execute_result"
    }
   ],
   "source": [
    "scaler.inverse_transform(model.predict(X_train)).flatten()"
   ]
  },
  {
   "cell_type": "code",
   "execution_count": 106,
   "metadata": {},
   "outputs": [
    {
     "data": {
      "text/plain": [
       "array([36.26327766, 36.49793377, 36.71437775, 36.94453626])"
      ]
     },
     "execution_count": 106,
     "metadata": {},
     "output_type": "execute_result"
    }
   ],
   "source": [
    "scaler.inverse_transform(pred.reshape(-1, 1)).flatten()"
   ]
  },
  {
   "cell_type": "code",
   "execution_count": 107,
   "metadata": {},
   "outputs": [
    {
     "data": {
      "image/png": "[encoded data removed]",
      "text/plain": [
       "<Figure size 1080x360 with 1 Axes>"
      ]
     },
     "metadata": {
      "needs_background": "light"
     },
     "output_type": "display_data"
    }
   ],
   "source": [
    "fig, ax = plt.subplots(1,1, figsize=(15, 5))\n",
    "ax.plot(approach2['3PA_all_players_game_2'], color='green')\n",
    "ax.plot(approach2.index[look_back:-len(Y_test)], scaler.inverse_transform(model.predict(X_train)).flatten(), color='grey')\n",
    "ax.plot(approach2.index[-len(Y_test):], scaler.inverse_transform(pred.reshape(-1, 1)).flatten(), color='red')\n",
    "ax.legend(['real data','train data prediction', 'test data prediction'])\n",
    "ax.set_title('Average number of 3P attempts in single game in relation to seasons')\n",
    "ax.set_xlabel('Year')\n",
    "ax.set_ylabel('Number of attempts')\n",
    "ax.spines['bottom'].set_color('0.5')\n",
    "ax.spines['top'].set_color(None)\n",
    "ax.spines['left'].set_color('0.5')\n",
    "ax.spines['right'].set_color(None)\n",
    "ax.grid(alpha=0.3)\n",
    "#fig.tight_layout(pad=3.0)\n",
    "plt.show()"
   ]
  },
  {
   "cell_type": "markdown",
   "metadata": {},
   "source": [
    "This model predict one future value basing on previous 15 values. This red line (prediction) seems justified considering just 15 previous seasons. I will use this model to predict for the next 5 years. However, the training data will be updated with those actual values which appeared to grow more rapidly. It should impact the slope of the new prediction."
   ]
  },
  {
   "cell_type": "code",
   "execution_count": 96,
   "metadata": {
    "collapsed": true
   },
   "outputs": [],
   "source": [
    "look_back = 15\n",
    "pred_window = 1\n",
    "X, Y = create_dataset(np.array(df_scaled['3PA_all_players_game_2']), look_back=look_back, pred_window=pred_window)"
   ]
  },
  {
   "cell_type": "code",
   "execution_count": 97,
   "metadata": {
    "scrolled": true
   },
   "outputs": [
    {
     "name": "stdout",
     "output_type": "stream",
     "text": [
      "Model: \"sequential_12\"\n",
      "_________________________________________________________________\n",
      "Layer (type)                 Output Shape              Param #   \n",
      "=================================================================\n",
      "lstm_23 (LSTM)               (None, 15, 30)            3840      \n",
      "_________________________________________________________________\n",
      "lstm_24 (LSTM)               (None, 10)                1640      \n",
      "_________________________________________________________________\n",
      "dense_12 (Dense)             (None, 1)                 11        \n",
      "=================================================================\n",
      "Total params: 5,491\n",
      "Trainable params: 5,491\n",
      "Non-trainable params: 0\n",
      "_________________________________________________________________\n",
      "Epoch 1/50\n",
      "23/23 [==============================] - 1s 48ms/step - loss: 0.2475\n",
      "Epoch 2/50\n",
      "23/23 [==============================] - 0s 12ms/step - loss: 0.0462\n",
      "Epoch 3/50\n",
      "23/23 [==============================] - 0s 11ms/step - loss: 0.0111\n",
      "Epoch 4/50\n",
      "23/23 [==============================] - 0s 12ms/step - loss: 0.0091\n",
      "Epoch 5/50\n",
      "23/23 [==============================] - 0s 11ms/step - loss: 0.0087\n",
      "Epoch 6/50\n",
      "23/23 [==============================] - 0s 11ms/step - loss: 0.0092\n",
      "Epoch 7/50\n",
      "23/23 [==============================] - 0s 11ms/step - loss: 0.0086\n",
      "Epoch 8/50\n",
      "23/23 [==============================] - 0s 11ms/step - loss: 0.0089\n",
      "Epoch 9/50\n",
      "23/23 [==============================] - 0s 11ms/step - loss: 0.0082\n",
      "Epoch 10/50\n",
      "23/23 [==============================] - 0s 12ms/step - loss: 0.0085\n",
      "Epoch 11/50\n",
      "23/23 [==============================] - 0s 12ms/step - loss: 0.0101\n",
      "Epoch 12/50\n",
      "23/23 [==============================] - 0s 12ms/step - loss: 0.0086\n",
      "Epoch 13/50\n",
      "23/23 [==============================] - 0s 11ms/step - loss: 0.0081\n",
      "Epoch 14/50\n",
      "23/23 [==============================] - 0s 11ms/step - loss: 0.0089\n",
      "Epoch 15/50\n",
      "23/23 [==============================] - 0s 12ms/step - loss: 0.0134\n",
      "Epoch 16/50\n",
      "23/23 [==============================] - 0s 11ms/step - loss: 0.0089\n",
      "Epoch 17/50\n",
      "23/23 [==============================] - 0s 13ms/step - loss: 0.0078\n",
      "Epoch 18/50\n",
      "23/23 [==============================] - 0s 15ms/step - loss: 0.0104\n",
      "Epoch 19/50\n",
      "23/23 [==============================] - 0s 13ms/step - loss: 0.0080\n",
      "Epoch 20/50\n",
      "23/23 [==============================] - 0s 15ms/step - loss: 0.0101\n",
      "Epoch 21/50\n",
      "23/23 [==============================] - 0s 13ms/step - loss: 0.0074\n",
      "Epoch 22/50\n",
      "23/23 [==============================] - 0s 13ms/step - loss: 0.0099\n",
      "Epoch 23/50\n",
      "23/23 [==============================] - 0s 12ms/step - loss: 0.0113\n",
      "Epoch 24/50\n",
      "23/23 [==============================] - 0s 12ms/step - loss: 0.0098\n",
      "Epoch 25/50\n",
      "23/23 [==============================] - 0s 12ms/step - loss: 0.0082\n",
      "Epoch 26/50\n",
      "23/23 [==============================] - 0s 12ms/step - loss: 0.0080\n",
      "Epoch 27/50\n",
      "23/23 [==============================] - 0s 12ms/step - loss: 0.0083\n",
      "Epoch 28/50\n",
      "23/23 [==============================] - 0s 12ms/step - loss: 0.0077\n",
      "Epoch 29/50\n",
      "23/23 [==============================] - 0s 12ms/step - loss: 0.0075\n",
      "Epoch 30/50\n",
      "23/23 [==============================] - 0s 12ms/step - loss: 0.0072\n",
      "Epoch 31/50\n",
      "23/23 [==============================] - 0s 12ms/step - loss: 0.0070\n",
      "Epoch 32/50\n",
      "23/23 [==============================] - 0s 13ms/step - loss: 0.0071\n",
      "Epoch 33/50\n",
      "23/23 [==============================] - 0s 12ms/step - loss: 0.0069\n",
      "Epoch 34/50\n",
      "23/23 [==============================] - 0s 13ms/step - loss: 0.0068\n",
      "Epoch 35/50\n",
      "23/23 [==============================] - 0s 13ms/step - loss: 0.0079\n",
      "Epoch 36/50\n",
      "23/23 [==============================] - 0s 14ms/step - loss: 0.0072\n",
      "Epoch 37/50\n",
      "23/23 [==============================] - 0s 12ms/step - loss: 0.0067\n",
      "Epoch 38/50\n",
      "23/23 [==============================] - 0s 13ms/step - loss: 0.0081\n",
      "Epoch 39/50\n",
      "23/23 [==============================] - 0s 13ms/step - loss: 0.0068\n",
      "Epoch 40/50\n",
      "23/23 [==============================] - 0s 12ms/step - loss: 0.0060\n",
      "Epoch 41/50\n",
      "23/23 [==============================] - 0s 13ms/step - loss: 0.0059\n",
      "Epoch 42/50\n",
      "23/23 [==============================] - 0s 12ms/step - loss: 0.0063\n",
      "Epoch 43/50\n",
      "23/23 [==============================] - 0s 12ms/step - loss: 0.0070\n",
      "Epoch 44/50\n",
      "23/23 [==============================] - 0s 12ms/step - loss: 0.0062\n",
      "Epoch 45/50\n",
      "23/23 [==============================] - 0s 12ms/step - loss: 0.0062\n",
      "Epoch 46/50\n",
      "23/23 [==============================] - 0s 13ms/step - loss: 0.0056\n",
      "Epoch 47/50\n",
      "23/23 [==============================] - 0s 12ms/step - loss: 0.0037\n",
      "Epoch 48/50\n",
      "23/23 [==============================] - 0s 12ms/step - loss: 0.0060\n",
      "Epoch 49/50\n",
      "23/23 [==============================] - 0s 13ms/step - loss: 0.0068\n",
      "Epoch 50/50\n",
      "23/23 [==============================] - 0s 12ms/step - loss: 0.0066\n"
     ]
    },
    {
     "data": {
      "text/plain": [
       "<keras.callbacks.callbacks.History at 0x18f10bd5400>"
      ]
     },
     "execution_count": 97,
     "metadata": {},
     "output_type": "execute_result"
    }
   ],
   "source": [
    "model = Sequential()\n",
    "model.add(LSTM(30, input_shape=(look_back,1), return_sequences=True))\n",
    "#model.add(LSTM(20, return_sequences=True))\n",
    "model.add(LSTM(10))\n",
    "model.add(Dense(pred_window))\n",
    "\n",
    "model.compile(optimizer='adam', loss='mean_squared_error')\n",
    "model.summary()\n",
    "model.fit(X, Y, batch_size=1, epochs=50)"
   ]
  },
  {
   "cell_type": "code",
   "execution_count": 98,
   "metadata": {
    "collapsed": true
   },
   "outputs": [],
   "source": [
    "pred_new = []\n",
    "x = np.expand_dims(np.array(df_scaled['3PA_all_players_game_2'][-look_back:]).reshape(-1,1), axis=0)\n",
    "for i in range(5):\n",
    "    p = model.predict(x)\n",
    "    x = np.expand_dims(np.append(x[0][pred_window:], p.reshape(-1,1), axis=0), axis=0)\n",
    "    pred_new = np.append(pred_new, p)"
   ]
  },
  {
   "cell_type": "code",
   "execution_count": 99,
   "metadata": {},
   "outputs": [
    {
     "data": {
      "text/plain": [
       "array([52.75761573, 55.61942475, 58.75576594, 61.65068311, 64.63753792])"
      ]
     },
     "execution_count": 99,
     "metadata": {},
     "output_type": "execute_result"
    }
   ],
   "source": [
    "scaler.inverse_transform(pred_new.reshape(-1, 1)).flatten()"
   ]
  },
  {
   "cell_type": "markdown",
   "metadata": {},
   "source": [
    "This is a number of attempts, so it should be integer. Thus, I will just round this result."
   ]
  },
  {
   "cell_type": "code",
   "execution_count": 100,
   "metadata": {},
   "outputs": [
    {
     "data": {
      "text/plain": [
       "array([53., 56., 59., 62., 65.])"
      ]
     },
     "execution_count": 100,
     "metadata": {},
     "output_type": "execute_result"
    }
   ],
   "source": [
    "prediction = np.round(scaler.inverse_transform(pred_new.reshape(-1, 1)).flatten())\n",
    "prediction"
   ]
  },
  {
   "cell_type": "code",
   "execution_count": 101,
   "metadata": {},
   "outputs": [
    {
     "data": {
      "image/png": "[encoded data removed]",
      "text/plain": [
       "<Figure size 1080x360 with 1 Axes>"
      ]
     },
     "metadata": {
      "needs_background": "light"
     },
     "output_type": "display_data"
    }
   ],
   "source": [
    "fig, ax = plt.subplots(1,1, figsize=(15, 5))\n",
    "ax.plot(approach2['3PA_all_players_game_2'], color='green')\n",
    "ax.plot(range(2018,2023), prediction, color='red')\n",
    "ax.legend(['real data','prediction'])\n",
    "ax.set_title('Average number of 3P attempts in single game in relation to seasons')\n",
    "ax.set_xlabel('Year')\n",
    "ax.set_ylabel('Number of attempts')\n",
    "ax.spines['bottom'].set_color('0.5')\n",
    "ax.spines['top'].set_color(None)\n",
    "ax.spines['left'].set_color('0.5')\n",
    "ax.spines['right'].set_color(None)\n",
    "ax.grid(alpha=0.3)\n",
    "plt.show()"
   ]
  },
  {
   "cell_type": "markdown",
   "metadata": {
    "collapsed": true
   },
   "source": [
    "As expected, the slope is more accurate looking at the most recent observations."
   ]
  },
  {
   "cell_type": "code",
   "execution_count": null,
   "metadata": {
    "collapsed": true
   },
   "outputs": [],
   "source": []
  }
 ],
 "metadata": {
  "kernelspec": {
   "display_name": "Python 3",
   "language": "python",
   "name": "python3"
  },
  "language_info": {
   "codemirror_mode": {
    "name": "ipython",
    "version": 3
   },
   "file_extension": ".py",
   "mimetype": "text/x-python",
   "name": "python",
   "nbconvert_exporter": "python",
   "pygments_lexer": "ipython3",
   "version": "3.6.3"
  }
 },
 "nbformat": 4,
 "nbformat_minor": 2
}
